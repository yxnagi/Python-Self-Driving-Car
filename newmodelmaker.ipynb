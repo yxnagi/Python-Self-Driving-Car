{
 "cells": [
  {
   "cell_type": "code",
   "execution_count": 6,
   "metadata": {},
   "outputs": [],
   "source": [
    "import tensorflow as tf\n",
    "import os\n",
    "import matplotlib.pyplot as plt\n",
    "import numpy as np\n",
    "\n",
    "from tensorflow import keras\n",
    "from tensorflow.keras.models import Sequential, Model\n",
    "from tensorflow.keras.layers import Conv2D, Dense, Flatten, BatchNormalization, MaxPooling2D, GlobalAveragePooling2D, Input\n",
    "\n"
   ]
  },
  {
   "cell_type": "code",
   "execution_count": 7,
   "metadata": {},
   "outputs": [
    {
     "name": "stdout",
     "output_type": "stream",
     "text": [
      "6608\n",
      "6608\n"
     ]
    }
   ],
   "source": [
    "imageList = tf.data.Dataset.list_files(os.path.join('data4', '*.png'), \n",
    "                                   shuffle = False)\n",
    "textList = tf.data.Dataset.list_files(os.path.join('data4', '*.txt'),\n",
    "                                      shuffle = False)\n",
    "\n",
    "\n",
    "imagecount = len(imageList)\n",
    "print(imagecount)\n",
    "textcount = len(textList)\n",
    "print(textcount)"
   ]
  },
  {
   "cell_type": "code",
   "execution_count": 9,
   "metadata": {},
   "outputs": [],
   "source": [
    "def preprocess(filepath):\n",
    "    # this is the function that will process all the images that are in the image list for basic conversion\n",
    "\n",
    "    #read image\n",
    "    img = tf.io.read_file(filepath)\n",
    "    #load image\n",
    "    img = tf.io.decode_png(img, channels=3)\n",
    "\n",
    "    #img = tf.image.resize(img, [586, 826])\n",
    "    #scaled the image to be 0-1\n",
    "    img = img / 255\n",
    "\n",
    "    #img = tf.image.central_crop(image=img, central_fraction=0.80)\n",
    "\n",
    "    #img = tf.image.rgb_to_grayscale(img)\n",
    "\n",
    "    #img = tf.expand_dims(img, axis=0)\n",
    "\n",
    "    #img = tf.image.adjust_brightness(img, -0.25)\n",
    "    #img = tf.image.adjust_contrast(img, 5)\n",
    "    #img = tf.image.adjust_gamma(img, 5, 5)\n",
    "\n",
    "    return img"
   ]
  },
  {
   "cell_type": "code",
   "execution_count": 10,
   "metadata": {},
   "outputs": [
    {
     "name": "stdout",
     "output_type": "stream",
     "text": [
      "[[[0. 0. 0.]\n",
      "  [0. 0. 0.]\n",
      "  [0. 0. 0.]\n",
      "  ...\n",
      "  [0. 0. 0.]\n",
      "  [0. 0. 0.]\n",
      "  [0. 0. 0.]]\n",
      "\n",
      " [[0. 0. 0.]\n",
      "  [0. 0. 0.]\n",
      "  [0. 0. 0.]\n",
      "  ...\n",
      "  [0. 0. 0.]\n",
      "  [0. 0. 0.]\n",
      "  [0. 0. 0.]]\n",
      "\n",
      " [[0. 0. 0.]\n",
      "  [0. 0. 0.]\n",
      "  [0. 0. 0.]\n",
      "  ...\n",
      "  [0. 0. 0.]\n",
      "  [0. 0. 0.]\n",
      "  [0. 0. 0.]]\n",
      "\n",
      " ...\n",
      "\n",
      " [[0. 0. 0.]\n",
      "  [0. 0. 0.]\n",
      "  [0. 0. 0.]\n",
      "  ...\n",
      "  [0. 0. 0.]\n",
      "  [0. 0. 0.]\n",
      "  [0. 0. 0.]]\n",
      "\n",
      " [[0. 0. 0.]\n",
      "  [0. 0. 0.]\n",
      "  [0. 0. 0.]\n",
      "  ...\n",
      "  [0. 0. 0.]\n",
      "  [0. 0. 0.]\n",
      "  [0. 0. 0.]]\n",
      "\n",
      " [[0. 0. 0.]\n",
      "  [0. 0. 0.]\n",
      "  [0. 0. 0.]\n",
      "  ...\n",
      "  [0. 0. 0.]\n",
      "  [0. 0. 0.]\n",
      "  [0. 0. 0.]]]\n"
     ]
    },
    {
     "data": {
      "image/png": "[encoded data removed]",
      "text/plain": [
       "<Figure size 640x480 with 1 Axes>"
      ]
     },
     "metadata": {},
     "output_type": "display_data"
    }
   ],
   "source": [
    "imageList = imageList.map(preprocess)\n",
    "plt.imshow(imageList.as_numpy_iterator().next(), cmap='gray')\n",
    "print(imageList.as_numpy_iterator().next())\n"
   ]
  },
  {
   "cell_type": "code",
   "execution_count": 12,
   "metadata": {},
   "outputs": [],
   "source": [
    "def preprocess_text(filepath):\n",
    "\n",
    "    key = tf.io.read_file(filepath)\n",
    "\n",
    "    if key == 'up arrow\\r\\n':\n",
    "        return [1,0,0,0]\n",
    "    if key == 'down arrow\\r\\n':\n",
    "        return [0,1,0,0]\n",
    "    if key == 'left arrow\\r\\n':\n",
    "        return [0,0,1,0]\n",
    "    if key == 'right arrow\\r\\n':\n",
    "        return [0,0,0,1]\n",
    "    if key == 'left arrow,up arrow\\r\\n':\n",
    "        return [1,0,1,0]\n",
    "    if key == 'left arrow,down arrow\\r\\n':\n",
    "        return [0,1,1,0]\n",
    "    if key == 'right arrow,up arrow\\r\\n':\n",
    "        return [1,0,0,1]\n",
    "    if key == 'right arrow,down arrow\\r\\n':\n",
    "        return [0,1,0,1]\n",
    "    else:\n",
    "        return [0,0,0,0]\n",
    "    return key "
   ]
  },
  {
   "cell_type": "code",
   "execution_count": 13,
   "metadata": {},
   "outputs": [],
   "source": [
    "def wrap_array(x1,x2,x3,x4):\n",
    "    return tf.expand_dims([x1,x2,x3,x4], axis = 0)"
   ]
  },
  {
   "cell_type": "code",
   "execution_count": 14,
   "metadata": {},
   "outputs": [],
   "source": [
    "textList = textList.map(lambda x: tf.py_function(preprocess_text, [x], ([tf.int16, tf.int16, tf.int16, tf.int16,])))\n",
    "textList = textList.map(wrap_array)\n",
    "\n",
    "normalization_layer = tf.keras.layers.Rescaling(1./255)\n"
   ]
  },
  {
   "cell_type": "code",
   "execution_count": 15,
   "metadata": {},
   "outputs": [
    {
     "name": "stdout",
     "output_type": "stream",
     "text": [
      "1321 5287\n"
     ]
    }
   ],
   "source": [
    "val_size = int(0.2 * imagecount)\n",
    "\n",
    "train_image = imageList.skip(val_size)\n",
    "train_text = textList.skip(val_size)\n",
    "val_image = imageList.take(val_size)\n",
    "val_text = textList.take(val_size)\n",
    "\n",
    "print(len(val_image), len(train_image))"
   ]
  },
  {
   "cell_type": "code",
   "execution_count": 16,
   "metadata": {},
   "outputs": [],
   "source": [
    "train_ds = tf.data.Dataset.zip((train_image, train_text))\n",
    "val_ds = tf.data.Dataset.zip((val_image, val_text))\n",
    "\n",
    "#train_ds = train_ds.map(lambda x, y: (normalization_layer(x), y))\n",
    "#val_ds = val_ds.map(lambda x, y: (normalization_layer(x), y))"
   ]
  },
  {
   "cell_type": "code",
   "execution_count": 17,
   "metadata": {},
   "outputs": [],
   "source": [
    "def unwrap(x, y):\n",
    "    return x, tf.squeeze(y)"
   ]
  },
  {
   "cell_type": "code",
   "execution_count": null,
   "metadata": {},
   "outputs": [],
   "source": []
  },
  {
   "cell_type": "code",
   "execution_count": 18,
   "metadata": {},
   "outputs": [],
   "source": [
    "AUTOTUNE = tf.data.AUTOTUNE\n",
    "\n",
    "\n",
    "def configure_for_performance(ds):\n",
    "  ds = ds.cache()\n",
    "  ds = ds.shuffle(buffer_size=1000)\n",
    "  ds = ds.batch(8)\n",
    "  ds = ds.prefetch(buffer_size = AUTOTUNE)\n",
    "  ds = ds.map(unwrap)\n",
    "  return ds\n",
    "\n",
    "train_ds = configure_for_performance(train_ds)\n",
    "val_ds = configure_for_performance(val_ds)"
   ]
  },
  {
   "cell_type": "code",
   "execution_count": 20,
   "metadata": {},
   "outputs": [
    {
     "name": "stdout",
     "output_type": "stream",
     "text": [
      "(240, 850, 3)\n"
     ]
    }
   ],
   "source": [
    "#tf.reshape(train_ds, [586, 826])\n",
    "\n",
    "model = Sequential()\n",
    "\n",
    "print(imageList.as_numpy_iterator().next().shape)\n",
    "\n",
    "#model.add(keras.Input(shape=((586, 826, 3))))\n",
    "\n",
    "model.add(Conv2D(64,  #filters\n",
    "                  5,  #kernel size\n",
    "                  strides = (3,3),   #reducing the compression so its not 400 million parameters lkmfaoooo\n",
    "                activation = 'relu',  #activation type\n",
    "                input_shape =((240, 850, 3)\n",
    "                )))  #input shape (batch, shape as seen above)#\n",
    "\n",
    "model.add(BatchNormalization())\n",
    "\n",
    "model.add(MaxPooling2D())\n",
    "\n",
    "model.add(Conv2D(128, 4, \n",
    "                 strides = (3,3),\n",
    "                   activation='relu'))\n",
    "\n",
    "model.add(BatchNormalization())\n",
    "\n",
    "\n",
    "model.add(Conv2D(128, 3, \n",
    "                 strides = (3,3),\n",
    "                   activation='relu'))\n",
    "\n",
    "\n",
    "model.add(BatchNormalization())\n",
    "\n",
    "model.add(MaxPooling2D())\n",
    "\n",
    "model.add(Conv2D(256, 2, \n",
    "                 strides = (3,3),\n",
    "                   activation='relu'))\n",
    "\n",
    "\n",
    "model.add(BatchNormalization())\n",
    "\n",
    "\n",
    "\n",
    "model.add(GlobalAveragePooling2D())\n",
    "\n",
    "model.add(Flatten())\n",
    "\n",
    "model.add(Dense(4, activation='softmax'))"
   ]
  },
  {
   "cell_type": "code",
   "execution_count": 21,
   "metadata": {},
   "outputs": [
    {
     "name": "stdout",
     "output_type": "stream",
     "text": [
      "Model: \"sequential_1\"\n",
      "_________________________________________________________________\n",
      " Layer (type)                Output Shape              Param #   \n",
      "=================================================================\n",
      " conv2d_4 (Conv2D)           (None, 79, 282, 64)       4864      \n",
      "                                                                 \n",
      " batch_normalization_4 (Batc  (None, 79, 282, 64)      256       \n",
      " hNormalization)                                                 \n",
      "                                                                 \n",
      " max_pooling2d_2 (MaxPooling  (None, 39, 141, 64)      0         \n",
      " 2D)                                                             \n",
      "                                                                 \n",
      " conv2d_5 (Conv2D)           (None, 12, 46, 128)       131200    \n",
      "                                                                 \n",
      " batch_normalization_5 (Batc  (None, 12, 46, 128)      512       \n",
      " hNormalization)                                                 \n",
      "                                                                 \n",
      " conv2d_6 (Conv2D)           (None, 4, 15, 128)        147584    \n",
      "                                                                 \n",
      " batch_normalization_6 (Batc  (None, 4, 15, 128)       512       \n",
      " hNormalization)                                                 \n",
      "                                                                 \n",
      " max_pooling2d_3 (MaxPooling  (None, 2, 7, 128)        0         \n",
      " 2D)                                                             \n",
      "                                                                 \n",
      " conv2d_7 (Conv2D)           (None, 1, 2, 256)         131328    \n",
      "                                                                 \n",
      " batch_normalization_7 (Batc  (None, 1, 2, 256)        1024      \n",
      " hNormalization)                                                 \n",
      "                                                                 \n",
      " global_average_pooling2d_1   (None, 256)              0         \n",
      " (GlobalAveragePooling2D)                                        \n",
      "                                                                 \n",
      " flatten_1 (Flatten)         (None, 256)               0         \n",
      "                                                                 \n",
      " dense_1 (Dense)             (None, 4)                 1028      \n",
      "                                                                 \n",
      "=================================================================\n",
      "Total params: 418,308\n",
      "Trainable params: 417,156\n",
      "Non-trainable params: 1,152\n",
      "_________________________________________________________________\n"
     ]
    }
   ],
   "source": [
    "\n",
    "model.summary()"
   ]
  },
  {
   "cell_type": "code",
   "execution_count": 22,
   "metadata": {},
   "outputs": [],
   "source": [
    "model.compile(\n",
    "  optimizer='adam',\n",
    "  loss=tf.keras.losses.CategoricalCrossentropy(from_logits=True),\n",
    "  metrics=[tf.keras.metrics.CategoricalAccuracy()])\n"
   ]
  },
  {
   "cell_type": "code",
   "execution_count": 23,
   "metadata": {},
   "outputs": [
    {
     "name": "stdout",
     "output_type": "stream",
     "text": [
      "Epoch 1/25\n",
      "661/661 [==============================] - 111s 161ms/step - loss: 1.7149 - categorical_accuracy: 0.6546 - val_loss: 1.8330 - val_categorical_accuracy: 0.5920\n",
      "Epoch 2/25\n",
      "661/661 [==============================] - 107s 162ms/step - loss: 1.6578 - categorical_accuracy: 0.7416 - val_loss: 1.7703 - val_categorical_accuracy: 0.6465\n",
      "Epoch 3/25\n",
      "661/661 [==============================] - 106s 161ms/step - loss: 1.6494 - categorical_accuracy: 0.7360 - val_loss: 1.7371 - val_categorical_accuracy: 0.6980\n",
      "Epoch 4/25\n",
      "661/661 [==============================] - 107s 161ms/step - loss: 1.6413 - categorical_accuracy: 0.7560 - val_loss: 1.7312 - val_categorical_accuracy: 0.6699\n",
      "Epoch 5/25\n",
      "661/661 [==============================] - 109s 164ms/step - loss: 1.6307 - categorical_accuracy: 0.7638 - val_loss: 1.7417 - val_categorical_accuracy: 0.6813\n",
      "Epoch 6/25\n",
      "661/661 [==============================] - 109s 165ms/step - loss: 1.6283 - categorical_accuracy: 0.7643 - val_loss: 1.8151 - val_categorical_accuracy: 0.7192\n",
      "Epoch 7/25\n",
      "661/661 [==============================] - 101s 153ms/step - loss: 1.6180 - categorical_accuracy: 0.7836 - val_loss: 1.7125 - val_categorical_accuracy: 0.6805\n",
      "Epoch 8/25\n",
      "661/661 [==============================] - 98s 148ms/step - loss: 1.6100 - categorical_accuracy: 0.7849 - val_loss: 1.7203 - val_categorical_accuracy: 0.6692\n",
      "Epoch 9/25\n",
      "661/661 [==============================] - 94s 141ms/step - loss: 1.6041 - categorical_accuracy: 0.7887 - val_loss: 1.7188 - val_categorical_accuracy: 0.7131\n",
      "Epoch 10/25\n",
      "661/661 [==============================] - 95s 143ms/step - loss: 1.5974 - categorical_accuracy: 0.7842 - val_loss: 1.7883 - val_categorical_accuracy: 0.6942\n",
      "Epoch 11/25\n",
      "661/661 [==============================] - 96s 146ms/step - loss: 1.5958 - categorical_accuracy: 0.7874 - val_loss: 1.7824 - val_categorical_accuracy: 0.5564\n",
      "Epoch 12/25\n",
      "661/661 [==============================] - 98s 148ms/step - loss: 1.5903 - categorical_accuracy: 0.7955 - val_loss: 1.7177 - val_categorical_accuracy: 0.7509\n",
      "Epoch 13/25\n",
      "661/661 [==============================] - 100s 151ms/step - loss: 1.5882 - categorical_accuracy: 0.7993 - val_loss: 1.7822 - val_categorical_accuracy: 0.7040\n",
      "Epoch 14/25\n",
      "661/661 [==============================] - 98s 149ms/step - loss: 1.5854 - categorical_accuracy: 0.8052 - val_loss: 1.7170 - val_categorical_accuracy: 0.7320\n",
      "Epoch 15/25\n",
      "661/661 [==============================] - 99s 149ms/step - loss: 1.5829 - categorical_accuracy: 0.8006 - val_loss: 1.7661 - val_categorical_accuracy: 0.5693\n",
      "Epoch 16/25\n",
      "661/661 [==============================] - 98s 148ms/step - loss: 1.5799 - categorical_accuracy: 0.8076 - val_loss: 1.7120 - val_categorical_accuracy: 0.6699\n",
      "Epoch 17/25\n",
      "661/661 [==============================] - 99s 149ms/step - loss: 1.5793 - categorical_accuracy: 0.8073 - val_loss: 1.7191 - val_categorical_accuracy: 0.6556\n",
      "Epoch 18/25\n",
      "661/661 [==============================] - 98s 149ms/step - loss: 1.5796 - categorical_accuracy: 0.7974 - val_loss: 1.7134 - val_categorical_accuracy: 0.7048\n",
      "Epoch 19/25\n",
      "661/661 [==============================] - 96s 145ms/step - loss: 1.5747 - categorical_accuracy: 0.8075 - val_loss: 1.7099 - val_categorical_accuracy: 0.7033\n",
      "Epoch 20/25\n",
      "661/661 [==============================] - 99s 149ms/step - loss: 1.5732 - categorical_accuracy: 0.8143 - val_loss: 1.7555 - val_categorical_accuracy: 0.5927\n",
      "Epoch 21/25\n",
      "661/661 [==============================] - 100s 152ms/step - loss: 1.5742 - categorical_accuracy: 0.8093 - val_loss: 1.8327 - val_categorical_accuracy: 0.6662\n",
      "Epoch 22/25\n",
      "661/661 [==============================] - 98s 148ms/step - loss: 1.5750 - categorical_accuracy: 0.8006 - val_loss: 1.7538 - val_categorical_accuracy: 0.5897\n",
      "Epoch 23/25\n",
      "661/661 [==============================] - 97s 146ms/step - loss: 1.5708 - categorical_accuracy: 0.8040 - val_loss: 1.7131 - val_categorical_accuracy: 0.6896\n",
      "Epoch 24/25\n",
      "661/661 [==============================] - 101s 152ms/step - loss: 1.5721 - categorical_accuracy: 0.8061 - val_loss: 1.7205 - val_categorical_accuracy: 0.6745\n",
      "Epoch 25/25\n",
      "661/661 [==============================] - 96s 146ms/step - loss: 1.5706 - categorical_accuracy: 0.8071 - val_loss: 1.7206 - val_categorical_accuracy: 0.6472\n"
     ]
    },
    {
     "data": {
      "text/plain": [
       "<keras.callbacks.History at 0x22e9afc51c0>"
      ]
     },
     "execution_count": 23,
     "metadata": {},
     "output_type": "execute_result"
    }
   ],
   "source": [
    "model.fit(train_ds, validation_data=val_ds, epochs=25,\n",
    "          # steps_per_epoch=(250)\n",
    "          )"
   ]
  },
  {
   "cell_type": "code",
   "execution_count": 24,
   "metadata": {},
   "outputs": [
    {
     "name": "stdout",
     "output_type": "stream",
     "text": [
      "166/166 [==============================] - 6s 39ms/step - loss: 1.7268 - categorical_accuracy: 0.6472\n",
      "test accuracy -> 0.6472369432449341, test loss -> 1.7268157005310059\n"
     ]
    }
   ],
   "source": [
    "test_loss, test_acc = model.evaluate(val_ds)\n",
    "print(f\"test accuracy -> {test_acc}, test loss -> {test_loss}\")\n"
   ]
  },
  {
   "cell_type": "code",
   "execution_count": 25,
   "metadata": {},
   "outputs": [
    {
     "name": "stderr",
     "output_type": "stream",
     "text": [
      "WARNING:absl:Found untraced functions such as _jit_compiled_convolution_op, _jit_compiled_convolution_op, _jit_compiled_convolution_op, _jit_compiled_convolution_op, _update_step_xla while saving (showing 5 of 5). These functions will not be directly callable after loading.\n"
     ]
    },
    {
     "name": "stdout",
     "output_type": "stream",
     "text": [
      "INFO:tensorflow:Assets written to: modeltype4.model\\assets\n"
     ]
    },
    {
     "name": "stderr",
     "output_type": "stream",
     "text": [
      "INFO:tensorflow:Assets written to: modeltype4.model\\assets\n"
     ]
    }
   ],
   "source": [
    "model.save('modeltype4.model')"
   ]
  }
 ],
 "metadata": {
  "kernelspec": {
   "display_name": "Python 3",
   "language": "python",
   "name": "python3"
  },
  "language_info": {
   "codemirror_mode": {
    "name": "ipython",
    "version": 3
   },
   "file_extension": ".py",
   "mimetype": "text/x-python",
   "name": "python",
   "nbconvert_exporter": "python",
   "pygments_lexer": "ipython3",
   "version": "3.9.12"
  }
 },
 "nbformat": 4,
 "nbformat_minor": 2
}
