{
 "cells": [
  {
   "cell_type": "code",
   "execution_count": null,
   "metadata": {},
   "outputs": [],
   "source": [
    "import tensorflow as tf\n",
    "import os\n",
    "import matplotlib.pyplot as plt"
   ]
  },
  {
   "attachments": {},
   "cell_type": "markdown",
   "metadata": {},
   "source": [
    "# alternate loading system\n"
   ]
  },
  {
   "cell_type": "code",
   "execution_count": null,
   "metadata": {},
   "outputs": [],
   "source": [
    "imageList = tf.data.Dataset.list_files(os.path.join('data', '*.png'), \n",
    "                                   shuffle = False)\n",
    "textList = tf.data.Dataset.list_files(os.path.join('data', '*.txt'),\n",
    "                                      shuffle = False)\n",
    "\n",
    "\n",
    "imagecount = len(imageList)"
   ]
  }
 ],
 "metadata": {
  "language_info": {
   "name": "python"
  },
  "orig_nbformat": 4
 },
 "nbformat": 4,
 "nbformat_minor": 2
}
